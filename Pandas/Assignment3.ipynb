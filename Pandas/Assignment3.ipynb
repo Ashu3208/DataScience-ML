{
 "cells": [
  {
   "cell_type": "code",
   "execution_count": 1,
   "id": "27b5579f-3180-41bf-978b-0573ab4d9219",
   "metadata": {},
   "outputs": [],
   "source": [
    "import pandas as pd"
   ]
  },
  {
   "cell_type": "markdown",
   "id": "a87200fe-d1c4-4302-bb06-ad98ebf1232d",
   "metadata": {},
   "source": [
    "## Q1"
   ]
  },
  {
   "cell_type": "code",
   "execution_count": 2,
   "id": "95dee580-e90a-4ea6-ae31-82ec2c43024f",
   "metadata": {},
   "outputs": [],
   "source": [
    "course_name = [\"Data Science\", \"Machine Learning\", \"Big Data\", \"Data Engineer\"]\n",
    "duration = [2,3,6,4]\n",
    "df = pd.DataFrame(data = {\"course_name\" : course_name, \"duration\" : duration})"
   ]
  },
  {
   "cell_type": "code",
   "execution_count": 3,
   "id": "2ba831e6-d6f9-47db-b564-edcbc166c52f",
   "metadata": {},
   "outputs": [
    {
     "data": {
      "text/html": [
       "<div>\n",
       "<style scoped>\n",
       "    .dataframe tbody tr th:only-of-type {\n",
       "        vertical-align: middle;\n",
       "    }\n",
       "\n",
       "    .dataframe tbody tr th {\n",
       "        vertical-align: top;\n",
       "    }\n",
       "\n",
       "    .dataframe thead th {\n",
       "        text-align: right;\n",
       "    }\n",
       "</style>\n",
       "<table border=\"1\" class=\"dataframe\">\n",
       "  <thead>\n",
       "    <tr style=\"text-align: right;\">\n",
       "      <th></th>\n",
       "      <th>course_name</th>\n",
       "      <th>duration</th>\n",
       "    </tr>\n",
       "  </thead>\n",
       "  <tbody>\n",
       "    <tr>\n",
       "      <th>0</th>\n",
       "      <td>Data Science</td>\n",
       "      <td>2</td>\n",
       "    </tr>\n",
       "    <tr>\n",
       "      <th>1</th>\n",
       "      <td>Machine Learning</td>\n",
       "      <td>3</td>\n",
       "    </tr>\n",
       "    <tr>\n",
       "      <th>2</th>\n",
       "      <td>Big Data</td>\n",
       "      <td>6</td>\n",
       "    </tr>\n",
       "    <tr>\n",
       "      <th>3</th>\n",
       "      <td>Data Engineer</td>\n",
       "      <td>4</td>\n",
       "    </tr>\n",
       "  </tbody>\n",
       "</table>\n",
       "</div>"
      ],
      "text/plain": [
       "        course_name  duration\n",
       "0      Data Science         2\n",
       "1  Machine Learning         3\n",
       "2          Big Data         6\n",
       "3     Data Engineer         4"
      ]
     },
     "execution_count": 3,
     "metadata": {},
     "output_type": "execute_result"
    }
   ],
   "source": [
    "df"
   ]
  },
  {
   "cell_type": "code",
   "execution_count": 4,
   "id": "a04bb480-0a82-4ae5-9fe1-02442635ef32",
   "metadata": {},
   "outputs": [
    {
     "data": {
      "text/html": [
       "<div>\n",
       "<style scoped>\n",
       "    .dataframe tbody tr th:only-of-type {\n",
       "        vertical-align: middle;\n",
       "    }\n",
       "\n",
       "    .dataframe tbody tr th {\n",
       "        vertical-align: top;\n",
       "    }\n",
       "\n",
       "    .dataframe thead th {\n",
       "        text-align: right;\n",
       "    }\n",
       "</style>\n",
       "<table border=\"1\" class=\"dataframe\">\n",
       "  <thead>\n",
       "    <tr style=\"text-align: right;\">\n",
       "      <th></th>\n",
       "      <th>course_name</th>\n",
       "      <th>duration</th>\n",
       "    </tr>\n",
       "  </thead>\n",
       "  <tbody>\n",
       "    <tr>\n",
       "      <th>1</th>\n",
       "      <td>Machine Learning</td>\n",
       "      <td>3</td>\n",
       "    </tr>\n",
       "  </tbody>\n",
       "</table>\n",
       "</div>"
      ],
      "text/plain": [
       "        course_name  duration\n",
       "1  Machine Learning         3"
      ]
     },
     "execution_count": 4,
     "metadata": {},
     "output_type": "execute_result"
    }
   ],
   "source": [
    "df[1:2]"
   ]
  },
  {
   "cell_type": "markdown",
   "id": "c11514ff-d402-4345-8bf6-a211a15deb10",
   "metadata": {},
   "source": [
    "## Q2"
   ]
  },
  {
   "cell_type": "markdown",
   "id": "b5724b37-3800-4a5b-8917-295cdcd0c95b",
   "metadata": {},
   "source": [
    "In Pandas, both loc and iloc are used for indexing and selecting data from a DataFrame. However, there is a key difference between these two functions.\n",
    "\n",
    "loc is used for label-based indexing, which means that it selects data based on the row and column labels. It takes two arguments, separated by a comma, to specify the row and column labels. For example, to select a single value from a DataFrame, you can use the following code:\n",
    "    \n",
    "    "
   ]
  },
  {
   "cell_type": "code",
   "execution_count": 5,
   "id": "58f7748d-8c79-4245-bd37-d44a70486b35",
   "metadata": {},
   "outputs": [
    {
     "data": {
      "text/plain": [
       "1"
      ]
     },
     "execution_count": 5,
     "metadata": {},
     "output_type": "execute_result"
    }
   ],
   "source": [
    "df = pd.DataFrame({'A': [1, 2, 3], 'B': [4, 5, 6]}, index=['a', 'b', 'c'])\n",
    "df.iloc[0, 0]  # returns 1\n"
   ]
  },
  {
   "cell_type": "markdown",
   "id": "b4c2d85b-9656-476b-90f0-1c3d0a8f1395",
   "metadata": {},
   "source": [
    "In this example, df.loc['a', 'A'] selects the value in the first row and first column of the DataFrame, which is 1.\n",
    "\n",
    "On the other hand, iloc is used for position-based indexing, which means that it selects data based on the row and column positions. It also takes two arguments, separated by a comma, to specify the row and column positions. For example, to select a single value from a DataFrame, you can use the following code:"
   ]
  },
  {
   "cell_type": "code",
   "execution_count": 6,
   "id": "1a2c2c81-0cc6-40f4-953e-55e1e542a3ad",
   "metadata": {},
   "outputs": [
    {
     "data": {
      "text/plain": [
       "1"
      ]
     },
     "execution_count": 6,
     "metadata": {},
     "output_type": "execute_result"
    }
   ],
   "source": [
    "df = pd.DataFrame({'A': [1, 2, 3], 'B': [4, 5, 6]}, index=['a', 'b', 'c'])\n",
    "df.iloc[0, 0]  # returns 1\n"
   ]
  },
  {
   "cell_type": "markdown",
   "id": "5eecddde-932f-4367-b9e8-a8f21c68393b",
   "metadata": {},
   "source": [
    "In this example, df.iloc[0, 0] selects the value in the first row and first column of the DataFrame, which is 1.\n",
    "\n",
    "In summary, loc is used for label-based indexing and iloc is used for position-based indexing."
   ]
  },
  {
   "cell_type": "markdown",
   "id": "8a7383a6-ff59-4bab-8370-e6dff55509a6",
   "metadata": {},
   "source": [
    "## Q3"
   ]
  },
  {
   "cell_type": "code",
   "execution_count": 10,
   "id": "6f2164c1-cb9f-4064-8135-105c60db3104",
   "metadata": {},
   "outputs": [
    {
     "name": "stdout",
     "output_type": "stream",
     "text": [
      "course_name    Big Data\n",
      "duration              6\n",
      "Name: 2, dtype: object\n",
      "course_name    Machine Learning\n",
      "duration                      3\n",
      "Name: 1, dtype: object\n"
     ]
    }
   ],
   "source": [
    "course_name = [\"Data Science\", \"Machine Learning\", \"Big Data\", \"Data Engineer\"]\n",
    "duration = [2,3,6,4]\n",
    "df = pd.DataFrame(data = {\"course_name\" : course_name, \"duration\" : duration})\n",
    "\n",
    "reindex = [3, 0, 1, 2]\n",
    "new_df = df.reindex(reindex)\n",
    "\n",
    "print(new_df.loc[2])\n",
    "print(new_df.iloc[2])"
   ]
  },
  {
   "cell_type": "markdown",
   "id": "2b6fa047-f55d-45eb-b489-44113e9a7f16",
   "metadata": {},
   "source": [
    "As you can see, new_df.loc[2] returns the row with index label 2 (which is \"Big Data\"), while new_df.iloc[2] returns the row with index position 2 (which is \"Machine Learning\")"
   ]
  },
  {
   "cell_type": "markdown",
   "id": "bd5fbba1-c613-465d-9459-bc207ddf5300",
   "metadata": {},
   "source": [
    "## Q4"
   ]
  },
  {
   "cell_type": "code",
   "execution_count": 12,
   "id": "af567f80-0378-4b56-b749-e16ab31e079e",
   "metadata": {},
   "outputs": [],
   "source": [
    "import numpy as np\n",
    "\n",
    "# Creating a DataFrame\n",
    "columns = ['column_1', 'column_2', 'column_3', 'column_4', 'column_5', 'column_6']\n",
    "indices = [1, 2, 3, 4, 5, 6]\n",
    "df1 = pd.DataFrame(np.random.rand(6, 6), columns=columns, index=indices)"
   ]
  },
  {
   "cell_type": "code",
   "execution_count": 14,
   "id": "e4613f78-5285-4188-aa89-01526023af69",
   "metadata": {},
   "outputs": [
    {
     "data": {
      "text/plain": [
       "column_1    0.473732\n",
       "column_2    0.581413\n",
       "column_3    0.519963\n",
       "column_4    0.482218\n",
       "column_5    0.247956\n",
       "column_6    0.508891\n",
       "dtype: float64"
      ]
     },
     "execution_count": 14,
     "metadata": {},
     "output_type": "execute_result"
    }
   ],
   "source": [
    "df1.mean()"
   ]
  },
  {
   "cell_type": "code",
   "execution_count": 15,
   "id": "64441ae4-b87c-4015-a910-9076a15362c5",
   "metadata": {},
   "outputs": [
    {
     "data": {
      "text/plain": [
       "0.28934114841651815"
      ]
     },
     "execution_count": 15,
     "metadata": {},
     "output_type": "execute_result"
    }
   ],
   "source": [
    "df1['column_2'].std()"
   ]
  },
  {
   "cell_type": "markdown",
   "id": "a3a081aa-6775-40b3-8af3-91fa5b597337",
   "metadata": {},
   "source": [
    "## Q5"
   ]
  },
  {
   "cell_type": "code",
   "execution_count": 16,
   "id": "11a9b17f-2001-4050-b52e-57936f8cd151",
   "metadata": {},
   "outputs": [
    {
     "name": "stdout",
     "output_type": "stream",
     "text": [
      "TypeError: unsupported operand type(s) for +: 'float' and 'str'\n"
     ]
    }
   ],
   "source": [
    "df1.loc[2, 'column_2'] = \"string data\"\n",
    "\n",
    "# Finding the mean of column_2\n",
    "try:\n",
    "    mean_of_column_2 = df1['column_2'].mean()\n",
    "    print(\"Mean of 'column_2':\", mean_of_column_2)\n",
    "except TypeError as e:\n",
    "    print(f\"TypeError: {e}\")"
   ]
  },
  {
   "cell_type": "markdown",
   "id": "756ae479-a6b2-4ed0-975c-57855184f756",
   "metadata": {},
   "source": [
    "we first used the loc[] method to replace the data in the second row of column_2 with a string variable. Then, we tried to find the mean of column_2 using the mean() method, but we got a TypeError because we replaced the numeric data in the second row of column_2 with a string.\n",
    "\n",
    "To fix this error, we need to make sure that all the values in column_2 are numeric before finding the mean. We can do this by replacing the string data with a numeric value or removing the row altogether."
   ]
  },
  {
   "cell_type": "markdown",
   "id": "76cc6aad-82f1-4263-bb09-e1232955944f",
   "metadata": {},
   "source": [
    "## Q6"
   ]
  },
  {
   "cell_type": "markdown",
   "id": "04eb0238-4ce2-4bc2-b972-0cf95d133694",
   "metadata": {},
   "source": [
    "In Pandas, a window function is a way of performing calculations on a subset of a DataFrame or a Series. It allows us to apply functions to a sliding window of data, where the size and shape of the window can be customized.\n",
    "\n",
    "There are several types of window functions available in Pandas, including:\n",
    "\n",
    "Rolling Functions: These functions work on a fixed-size sliding window and can be used to calculate rolling statistics, such as rolling mean or rolling standard deviation.\n",
    "\n",
    "Expanding Functions: These functions work on an expanding window, where the window size starts at a minimum and grows until it encompasses all data points. This can be used to calculate cumulative statistics, such as cumulative sum or cumulative mean.\n",
    "\n",
    "Exponentially Weighted Functions: These functions apply exponentially decreasing weights to each data point based on their age, giving more importance to recent data. They can be used to calculate exponentially weighted moving statistics, such as exponentially weighted moving average or exponentially weighted moving standard deviation.\n",
    "\n",
    "Aggregation Functions: These functions can be used to aggregate data within a sliding window, such as counting the number of data points or finding the maximum or minimum value.\n",
    "\n",
    "Transformation Functions: These functions can be used to perform calculations on a sliding window and return a new Series or DataFrame with the same shape as the original data, such as calculating the percent change in values over time.\n",
    "\n",
    "Overall, window functions provide a powerful tool for analyzing time-series or sequential data, allowing us to calculate complex statistics and gain insights into the underlying patterns and trends."
   ]
  },
  {
   "cell_type": "markdown",
   "id": "70588f3e-8f54-4740-9640-9c418c7ba49f",
   "metadata": {},
   "source": [
    "## Q7"
   ]
  },
  {
   "cell_type": "code",
   "execution_count": 24,
   "id": "197b8866-0265-4e7c-bc60-e8eda2a9e531",
   "metadata": {},
   "outputs": [
    {
     "name": "stderr",
     "output_type": "stream",
     "text": [
      "/tmp/ipykernel_109/1335740932.py:1: FutureWarning: The pandas.datetime class is deprecated and will be removed from pandas in a future version. Import from datetime module instead.\n",
      "  pd.datetime.now().strftime(\"%B %Y\")\n"
     ]
    },
    {
     "data": {
      "text/plain": [
       "'March 2023'"
      ]
     },
     "execution_count": 24,
     "metadata": {},
     "output_type": "execute_result"
    }
   ],
   "source": [
    "pd.datetime.now().strftime(\"%B %Y\")"
   ]
  },
  {
   "cell_type": "markdown",
   "id": "fb2ef194-9a4d-43c7-9286-354af53ac987",
   "metadata": {},
   "source": [
    "## Q8"
   ]
  },
  {
   "cell_type": "code",
   "execution_count": 25,
   "id": "3264394d-8f37-44db-bda7-be1c9e55d5ce",
   "metadata": {},
   "outputs": [
    {
     "name": "stdin",
     "output_type": "stream",
     "text": [
      "Enter the first date (YYYY-MM-DD):  2023-05-23\n",
      "Enter the second date (YYYY-MM-DD):  2024-05-23\n"
     ]
    },
    {
     "name": "stdout",
     "output_type": "stream",
     "text": [
      "The difference between 2023-05-23 and 2024-05-23 is:\n",
      "366 days, 0 hours, and 0 minutes.\n"
     ]
    }
   ],
   "source": [
    "# Get the two dates as input from the user\n",
    "date1 = input(\"Enter the first date (YYYY-MM-DD): \")\n",
    "date2 = input(\"Enter the second date (YYYY-MM-DD): \")\n",
    "\n",
    "# Convert the input strings to Pandas datetime objects\n",
    "date1 = pd.to_datetime(date1)\n",
    "date2 = pd.to_datetime(date2)\n",
    "\n",
    "# Calculate the difference between the two dates using timedelta\n",
    "diff = date2 - date1\n",
    "\n",
    "# Extract the number of days, hours, and minutes from the difference\n",
    "days = diff.days\n",
    "hours = diff.seconds // 3600\n",
    "minutes = (diff.seconds // 60) % 60\n",
    "\n",
    "# Display the result to the user\n",
    "print(\"The difference between\", date1.strftime(\"%Y-%m-%d\"), \"and\", date2.strftime(\"%Y-%m-%d\"), \"is:\")\n",
    "print(days, \"days,\", hours, \"hours, and\", minutes, \"minutes.\")\n"
   ]
  },
  {
   "cell_type": "markdown",
   "id": "2a03dd95-6891-47be-ba86-3959910ff4b7",
   "metadata": {},
   "source": [
    "## Q9"
   ]
  },
  {
   "cell_type": "code",
   "execution_count": null,
   "id": "19b2c8c9-c838-407b-b3fc-662bfe193aa5",
   "metadata": {},
   "outputs": [],
   "source": [
    "file_path = input(\"Enter the file path: \")\n",
    "col_name = input(\"Enter the column name: \")\n",
    "\n",
    "# Read the CSV file into a Pandas DataFrame\n",
    "df = pd.read_csv(file_path)\n",
    "\n",
    "# Prompt the user to enter the category order\n",
    "cat_order = input(\"Enter the category order (comma-separated list): \").split(\",\")\n",
    "\n",
    "# Convert the specified column to a categorical data type with the specified category order\n",
    "cat_type = pd.api.types.CategoricalDtype(categories=cat_order, ordered=True)\n",
    "df[col_name] = df[col_name].astype(cat_type)\n",
    "\n",
    "# Sort the data by the specified column\n",
    "df = df.sort_values(by=[col_name])\n",
    "\n",
    "# Display the sorted data\n",
    "print(df)\n"
   ]
  },
  {
   "cell_type": "markdown",
   "id": "0cc5acdb-1356-42ac-a1d4-111450ec7d1d",
   "metadata": {},
   "source": [
    "## Q10"
   ]
  },
  {
   "cell_type": "code",
   "execution_count": null,
   "id": "3ec68932-96ae-4913-b67e-516f0025bff0",
   "metadata": {},
   "outputs": [],
   "source": [
    "import pandas as pd\n",
    "import matplotlib.pyplot as plt\n",
    "\n",
    "# Prompt the user to enter the file path\n",
    "file_path = input(\"Enter the file path: \")\n",
    "\n",
    "# Read the CSV file into a Pandas DataFrame\n",
    "df = pd.read_csv(file_path)\n",
    "\n",
    "# Set the 'date' column as the index\n",
    "df.set_index('date', inplace=True)\n",
    "\n",
    "# Reshape the data to have one row per date and product category\n",
    "df = df.stack().reset_index().rename(columns={'level_1': 'category', 0: 'sales'})\n",
    "\n",
    "# Create a pivot table to aggregate the sales by date and product category\n",
    "pivot_table = pd.pivot_table(df, values='sales', index='date', columns='category', aggfunc='sum')\n",
    "\n",
    "# Create a stacked bar chart of the sales by product category over time\n",
    "pivot_table.plot(kind='bar', stacked=True)\n",
    "plt.xlabel('Date')\n",
    "plt.ylabel('Sales')\n",
    "plt.title('Sales by Product Category over Time')\n",
    "plt.show()"
   ]
  },
  {
   "cell_type": "markdown",
   "id": "065b44cb-9baa-4c96-adba-144717ece622",
   "metadata": {},
   "source": [
    "## Q11"
   ]
  },
  {
   "cell_type": "code",
   "execution_count": null,
   "id": "16a662db-7ac6-4cf9-879d-bf080743037e",
   "metadata": {},
   "outputs": [],
   "source": [
    "# Prompt the user to enter the file path of the CSV file containing the student data\n",
    "file_path = input(\"Enter the file path: \")\n",
    "\n",
    "# Read the CSV file into a Pandas DataFrame\n",
    "df = pd.read_csv(file_path)\n",
    "\n",
    "# Calculate the mean, median, and mode of the test scores using Pandas tools\n",
    "mean_score = df['Test Score'].mean()\n",
    "median_score = df['Test Score'].median()\n",
    "mode_score = df['Test Score'].mode().values[0]\n",
    "\n",
    "# Display the mean, median, and mode in a table\n",
    "data = {'Statistic': ['Mean', 'Median', 'Mode'], 'Test Score': [mean_score, median_score, mode_score]}\n",
    "df_stats = pd.DataFrame(data)\n",
    "print(df_stats)"
   ]
  }
 ],
 "metadata": {
  "kernelspec": {
   "display_name": "Python 3 (ipykernel)",
   "language": "python",
   "name": "python3"
  },
  "language_info": {
   "codemirror_mode": {
    "name": "ipython",
    "version": 3
   },
   "file_extension": ".py",
   "mimetype": "text/x-python",
   "name": "python",
   "nbconvert_exporter": "python",
   "pygments_lexer": "ipython3",
   "version": "3.10.8"
  }
 },
 "nbformat": 4,
 "nbformat_minor": 5
}
