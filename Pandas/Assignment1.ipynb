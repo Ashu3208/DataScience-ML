{
 "cells": [
  {
   "cell_type": "markdown",
   "id": "a19b121c-f4cf-4162-968a-b8ea142cf263",
   "metadata": {
    "tags": []
   },
   "source": [
    "## Q1"
   ]
  },
  {
   "cell_type": "code",
   "execution_count": 1,
   "id": "b80fe9fb-eb81-41f8-be6a-b5481e504321",
   "metadata": {},
   "outputs": [],
   "source": [
    "import pandas as pd"
   ]
  },
  {
   "cell_type": "code",
   "execution_count": 2,
   "id": "77eb1c78-2bca-4969-8106-9e6a5f0f402a",
   "metadata": {},
   "outputs": [],
   "source": [
    "df=pd.Series([4,8,15,16,23,42])"
   ]
  },
  {
   "cell_type": "code",
   "execution_count": 4,
   "id": "edc6bda4-c873-449c-b568-3226886291cc",
   "metadata": {},
   "outputs": [
    {
     "name": "stdout",
     "output_type": "stream",
     "text": [
      "0     4\n",
      "1     8\n",
      "2    15\n",
      "3    16\n",
      "4    23\n",
      "5    42\n",
      "dtype: int64\n"
     ]
    }
   ],
   "source": [
    "print(df)"
   ]
  },
  {
   "cell_type": "markdown",
   "id": "6005eb31-4e66-4f33-b736-10d9423822a0",
   "metadata": {},
   "source": [
    "## Q2"
   ]
  },
  {
   "cell_type": "code",
   "execution_count": 5,
   "id": "97599f39-6ea2-4634-a9fd-1d5359d14a8d",
   "metadata": {},
   "outputs": [],
   "source": [
    "list=[1,2,3,4,5,6,7,8,9,10]"
   ]
  },
  {
   "cell_type": "code",
   "execution_count": 7,
   "id": "1d739d24-aa36-4468-a8c7-2d7d71fdd339",
   "metadata": {},
   "outputs": [],
   "source": [
    "list_var=pd.Series(list)"
   ]
  },
  {
   "cell_type": "code",
   "execution_count": 8,
   "id": "654b008b-59e4-42f4-b415-c6c0339e6bf9",
   "metadata": {},
   "outputs": [
    {
     "data": {
      "text/plain": [
       "0     1\n",
       "1     2\n",
       "2     3\n",
       "3     4\n",
       "4     5\n",
       "5     6\n",
       "6     7\n",
       "7     8\n",
       "8     9\n",
       "9    10\n",
       "dtype: int64"
      ]
     },
     "execution_count": 8,
     "metadata": {},
     "output_type": "execute_result"
    }
   ],
   "source": [
    "list_var"
   ]
  },
  {
   "cell_type": "markdown",
   "id": "01534a3b-6f5d-4460-8ad3-13e869a29f70",
   "metadata": {},
   "source": [
    "## Q3"
   ]
  },
  {
   "cell_type": "code",
   "execution_count": 12,
   "id": "0e61a836-c8aa-453b-bc79-3c628b7ae14d",
   "metadata": {},
   "outputs": [],
   "source": [
    "data=pd.DataFrame({\"Name\":[\"Alice\",\"Bob\",\"Claire\"],\"Age\":[25,30,27],\"Gender\":[\"Female\",\"Male\",\"Female\"]})"
   ]
  },
  {
   "cell_type": "code",
   "execution_count": 13,
   "id": "60226f39-aabf-460c-be5f-3a7404f7ad72",
   "metadata": {},
   "outputs": [
    {
     "name": "stdout",
     "output_type": "stream",
     "text": [
      "     Name  Age  Gender\n",
      "0   Alice   25  Female\n",
      "1     Bob   30    Male\n",
      "2  Claire   27  Female\n"
     ]
    }
   ],
   "source": [
    "print(data)"
   ]
  },
  {
   "cell_type": "markdown",
   "id": "3d2b6b88-abc8-4f6d-9856-453dccd57e13",
   "metadata": {},
   "source": [
    "## Q4"
   ]
  },
  {
   "cell_type": "markdown",
   "id": "ac8b552c-43bb-4ab6-afcc-e19774ee62a1",
   "metadata": {},
   "source": [
    " A Pandas DataFrame is a 2 dimensional data structure, like a 2 dimensional array, or a table with rows and columns \n",
    " while A Pandas Series is like a column in a table.It is a one-dimensional array holding data of any type.\n",
    " series=[\"BMW\",\"Toyota\",\"Honda\"]\n",
    " dataframe=[[\"Alice\",\"25\",\"Female\"],[\"Bob\",\"30\",\"Male\"]]"
   ]
  },
  {
   "cell_type": "markdown",
   "id": "cb736f03-8845-419b-9559-26570a930db2",
   "metadata": {},
   "source": [
    "## Q5"
   ]
  },
  {
   "cell_type": "markdown",
   "id": "2e7e8ef0-a01f-4d51-b721-930da89e8375",
   "metadata": {},
   "source": [
    "Pandas is a powerful library for data manipulation and analysis in Python. It provides many built-in functions for manipulating data in a DataFrame. Here are some common functions you can use to manipulate data in a Pandas DataFrame:\n",
    "\n",
    "1.head() and tail(): Returns the first or last n rows of a DataFrame, respectively. These functions are useful for quickly inspecting the data and checking that it has been loaded correctly\n",
    "2.info(): Provides a summary of the DataFrame, including the number of non-null values and data types of each column.\n",
    "3.describe(): Provides descriptive statistics for the numeric columns in the DataFrame, including count, mean, standard deviation, minimum, maximum, and quartiles.\n",
    "4.sort_values(): Sorts the DataFrame by one or more columns.\n",
    "5.groupby(): Groups the DataFrame by one or more columns and allows you to apply a function to each group."
   ]
  },
  {
   "cell_type": "markdown",
   "id": "e214a452-45f4-4ded-9ce3-956ed63c2279",
   "metadata": {},
   "source": [
    "## Q6"
   ]
  },
  {
   "cell_type": "markdown",
   "id": "b1ebc010-601d-4dcf-9e27-cc068e804dbc",
   "metadata": {},
   "source": [
    "In Pandas, the Series and DataFrame are mutable objects, which means that you can modify their contents after they have been created. On the other hand, Panel is a deprecated class in Pandas and is no longer recommended to be used, but when it was being used, it was also a mutable object.\n",
    "\n",
    "So, in summary, both Series and DataFrame are mutable, while Panel is a deprecated class in Pandas that was also mutable."
   ]
  },
  {
   "cell_type": "markdown",
   "id": "2ff991fe-61d5-4c89-a8ad-95c4f5b859f7",
   "metadata": {},
   "source": [
    "## Q7"
   ]
  },
  {
   "cell_type": "code",
   "execution_count": 14,
   "id": "b1bb3399-5070-45b8-a5a3-418763b2de3e",
   "metadata": {},
   "outputs": [
    {
     "data": {
      "text/html": [
       "<div>\n",
       "<style scoped>\n",
       "    .dataframe tbody tr th:only-of-type {\n",
       "        vertical-align: middle;\n",
       "    }\n",
       "\n",
       "    .dataframe tbody tr th {\n",
       "        vertical-align: top;\n",
       "    }\n",
       "\n",
       "    .dataframe thead th {\n",
       "        text-align: right;\n",
       "    }\n",
       "</style>\n",
       "<table border=\"1\" class=\"dataframe\">\n",
       "  <thead>\n",
       "    <tr style=\"text-align: right;\">\n",
       "      <th></th>\n",
       "      <th>Car make</th>\n",
       "      <th>Colour</th>\n",
       "    </tr>\n",
       "  </thead>\n",
       "  <tbody>\n",
       "    <tr>\n",
       "      <th>0</th>\n",
       "      <td>BMW</td>\n",
       "      <td>Red</td>\n",
       "    </tr>\n",
       "    <tr>\n",
       "      <th>1</th>\n",
       "      <td>Toyota</td>\n",
       "      <td>Blue</td>\n",
       "    </tr>\n",
       "    <tr>\n",
       "      <th>2</th>\n",
       "      <td>Honda</td>\n",
       "      <td>Green</td>\n",
       "    </tr>\n",
       "  </tbody>\n",
       "</table>\n",
       "</div>"
      ],
      "text/plain": [
       "  Car make Colour\n",
       "0      BMW    Red\n",
       "1   Toyota   Blue\n",
       "2    Honda  Green"
      ]
     },
     "execution_count": 14,
     "metadata": {},
     "output_type": "execute_result"
    }
   ],
   "source": [
    "colours=pd.Series([\"Red\",\"Blue\",\"Green\"])\n",
    "series=pd.Series([\"BMW\",\"Toyota\",\"Honda\"])\n",
    "car_data=pd.DataFrame({\"Car make\":series,\"Colour\":colours})\n",
    "car_data"
   ]
  },
  {
   "cell_type": "code",
   "execution_count": null,
   "id": "db6253a7-66a7-42d1-9097-8dacb6e1f353",
   "metadata": {},
   "outputs": [],
   "source": []
  }
 ],
 "metadata": {
  "kernelspec": {
   "display_name": "Python 3 (ipykernel)",
   "language": "python",
   "name": "python3"
  },
  "language_info": {
   "codemirror_mode": {
    "name": "ipython",
    "version": 3
   },
   "file_extension": ".py",
   "mimetype": "text/x-python",
   "name": "python",
   "nbconvert_exporter": "python",
   "pygments_lexer": "ipython3",
   "version": "3.10.8"
  }
 },
 "nbformat": 4,
 "nbformat_minor": 5
}
