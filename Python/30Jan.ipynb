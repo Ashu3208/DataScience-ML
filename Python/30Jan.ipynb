{
 "cells": [
  {
   "cell_type": "markdown",
   "id": "dc1ba161-6f79-4878-bee8-df380b22411b",
   "metadata": {},
   "source": [
    "## Q1"
   ]
  },
  {
   "cell_type": "code",
   "execution_count": 4,
   "id": "96e63b32-7a32-422b-bfbe-2f5b9fd5f3c0",
   "metadata": {},
   "outputs": [
    {
     "name": "stdin",
     "output_type": "stream",
     "text": [
      "What is your percentage? 85\n"
     ]
    },
    {
     "name": "stdout",
     "output_type": "stream",
     "text": [
      "B\n"
     ]
    }
   ],
   "source": [
    "percentage=int(input(\"What is your percentage?\"))\n",
    "if percentage>90:\n",
    "    print(\"A\")\n",
    "elif percentage>80:\n",
    "    print(\"B\")\n",
    "elif percentage>=60:\n",
    "    print(\"C\")\n",
    "else:\n",
    "    print(\"D\")"
   ]
  },
  {
   "cell_type": "markdown",
   "id": "6a157eed-6776-42e0-a4b0-bbf8d80c3a13",
   "metadata": {},
   "source": [
    "## Q2"
   ]
  },
  {
   "cell_type": "code",
   "execution_count": 5,
   "id": "87d6e7b3-47f0-4cf4-a60f-d8f8c473c7f4",
   "metadata": {},
   "outputs": [
    {
     "name": "stdin",
     "output_type": "stream",
     "text": [
      "What is the price of your bike? 100000\n"
     ]
    },
    {
     "name": "stdout",
     "output_type": "stream",
     "text": [
      "10000.0\n"
     ]
    }
   ],
   "source": [
    "cost_price=int(input(\"What is the price of your bike?\"))\n",
    "if cost_price>100000:\n",
    "    print(0.15*cost_price)\n",
    "elif cost_price>50000:\n",
    "    print(0.10*cost_price)\n",
    "else:\n",
    "    print(0.05*cost_price)"
   ]
  },
  {
   "cell_type": "markdown",
   "id": "dd10a845-dc51-4ced-9718-5fece3783a31",
   "metadata": {},
   "source": [
    "## Q3"
   ]
  },
  {
   "cell_type": "code",
   "execution_count": 8,
   "id": "129bcafb-d6f0-4f8f-8018-a910d41d05c2",
   "metadata": {},
   "outputs": [
    {
     "name": "stdin",
     "output_type": "stream",
     "text": [
      "Enter the name of your city Delhi\n"
     ]
    },
    {
     "name": "stdout",
     "output_type": "stream",
     "text": [
      "The famous monument of your city is: Red Fort\n"
     ]
    }
   ],
   "source": [
    "cities={\"Delhi\":\"Red Fort\",\"Agra\":\"Taj Mahal\",\"Jaipur\":\"Jal Mahal\"}\n",
    "city=input(\"Enter the name of your city\")\n",
    "print(f\"The famous monument of your city is: {cities[city]}\")"
   ]
  },
  {
   "cell_type": "markdown",
   "id": "ea4e3ed1-3772-4fd4-bb8f-71b1935aea58",
   "metadata": {},
   "source": [
    "## Q4"
   ]
  },
  {
   "cell_type": "code",
   "execution_count": 10,
   "id": "35861dbb-0a9a-4307-a4c5-77baabd38996",
   "metadata": {},
   "outputs": [],
   "source": [
    "def count_divideby3(n):\n",
    "    count=0\n",
    "    while n>10:\n",
    "        n/=3\n",
    "        count+=1\n",
    "    return count"
   ]
  },
  {
   "cell_type": "code",
   "execution_count": 11,
   "id": "b70c4b0f-77d5-4f51-ac0d-dd1802b0dfb6",
   "metadata": {},
   "outputs": [
    {
     "data": {
      "text/plain": [
       "1"
      ]
     },
     "execution_count": 11,
     "metadata": {},
     "output_type": "execute_result"
    }
   ],
   "source": [
    "count_divideby3(30)"
   ]
  },
  {
   "cell_type": "code",
   "execution_count": 12,
   "id": "ca2baeae-e670-42ed-a98e-fa3ecb78a3ce",
   "metadata": {},
   "outputs": [
    {
     "data": {
      "text/plain": [
       "2"
      ]
     },
     "execution_count": 12,
     "metadata": {},
     "output_type": "execute_result"
    }
   ],
   "source": [
    "count_divideby3(55)"
   ]
  },
  {
   "cell_type": "markdown",
   "id": "54961e8f-1b97-4588-b9f4-aa26435b56f5",
   "metadata": {},
   "source": [
    "## Q5"
   ]
  },
  {
   "cell_type": "markdown",
   "id": "fb39f9cc-464a-449b-9c8d-9644fdc50d3a",
   "metadata": {},
   "source": [
    "A while loop in Python is used to repeatedly execute a block of code as long as a certain condition is true. It continues executing the code until the condition becomes false. The while loop is useful in situations where you need to execute a block of code multiple times, but you don't know the exact number of times the loop will execute beforehand."
   ]
  },
  {
   "cell_type": "code",
   "execution_count": 13,
   "id": "76459840-6e66-4078-86b6-e130d75f41fa",
   "metadata": {},
   "outputs": [
    {
     "name": "stdout",
     "output_type": "stream",
     "text": [
      "The sum of numbers from 1 to 10 is 55\n"
     ]
    }
   ],
   "source": [
    "# Program to find the sum of numbers from 1 to 10 using a while loop\n",
    "\n",
    "# Initialize the variables\n",
    "num = 1\n",
    "sum = 0\n",
    "\n",
    "# Loop through the numbers from 1 to 10\n",
    "while num <= 10:\n",
    "    sum = sum + num\n",
    "    num = num + 1\n",
    "\n",
    "# Print the result\n",
    "print(\"The sum of numbers from 1 to 10 is\", sum)\n"
   ]
  },
  {
   "cell_type": "markdown",
   "id": "9971ea0b-c609-4b7a-8cc4-b5896b34c95b",
   "metadata": {},
   "source": [
    "## Q6"
   ]
  },
  {
   "cell_type": "code",
   "execution_count": 14,
   "id": "0191cfa0-eba9-4951-9694-faad002a480c",
   "metadata": {},
   "outputs": [
    {
     "name": "stdout",
     "output_type": "stream",
     "text": [
      "* \n",
      "* * \n",
      "* * * \n",
      "* * * * \n",
      "* * * * * \n"
     ]
    }
   ],
   "source": [
    "# Program to print half pyramid using nested while loop\n",
    "\n",
    "# Initialize variables\n",
    "num_rows = 5\n",
    "row = 1\n",
    "\n",
    "# Loop through rows\n",
    "while row <= num_rows:\n",
    "    col = 1\n",
    "    while col <= row:\n",
    "        print('*', end=' ')\n",
    "        col += 1\n",
    "    print('')\n",
    "    row += 1\n"
   ]
  },
  {
   "cell_type": "code",
   "execution_count": 15,
   "id": "4c25fc4d-50b1-4dc5-be97-816c20917a97",
   "metadata": {},
   "outputs": [
    {
     "name": "stdout",
     "output_type": "stream",
     "text": [
      "* * * * * \n",
      "* * * * \n",
      "* * * \n",
      "* * \n",
      "* \n"
     ]
    }
   ],
   "source": [
    "# Program to print inverted half pyramid using nested while loop\n",
    "\n",
    "# Initialize variables\n",
    "num_rows = 5\n",
    "row = num_rows\n",
    "\n",
    "# Loop through rows\n",
    "while row >= 1:\n",
    "    col = 1\n",
    "    while col <= row:\n",
    "        print('*', end=' ')\n",
    "        col += 1\n",
    "    print('')\n",
    "    row -= 1\n"
   ]
  },
  {
   "cell_type": "code",
   "execution_count": 16,
   "id": "b34e6cc1-9ae4-494a-8b1a-6bcf5f2cc47e",
   "metadata": {},
   "outputs": [
    {
     "name": "stdout",
     "output_type": "stream",
     "text": [
      "        * \n",
      "      * * * \n",
      "    * * * * * \n",
      "  * * * * * * * \n",
      "* * * * * * * * * \n"
     ]
    }
   ],
   "source": [
    "# Program to print pyramid using nested while loop\n",
    "\n",
    "# Initialize variables\n",
    "num_rows = 5\n",
    "row = 1\n",
    "\n",
    "# Loop through rows\n",
    "while row <= num_rows:\n",
    "    # Print spaces\n",
    "    col = 1\n",
    "    while col <= num_rows - row:\n",
    "        print('  ', end='')\n",
    "        col += 1\n",
    "\n",
    "    # Print stars\n",
    "    col = 1\n",
    "    while col <= 2 * row - 1:\n",
    "        print('* ', end='')\n",
    "        col += 1\n",
    "\n",
    "    print('')\n",
    "    row += 1\n"
   ]
  },
  {
   "cell_type": "markdown",
   "id": "924423a0-d5b8-44c4-b1f0-eb9c7c2f56ef",
   "metadata": {},
   "source": [
    "## Q7"
   ]
  },
  {
   "cell_type": "code",
   "execution_count": 17,
   "id": "5190de58-a27b-4a3e-ae6e-e9e8d32e324b",
   "metadata": {},
   "outputs": [
    {
     "name": "stdout",
     "output_type": "stream",
     "text": [
      "10\n",
      "9\n",
      "8\n",
      "7\n",
      "6\n",
      "5\n",
      "4\n",
      "3\n",
      "2\n",
      "1\n"
     ]
    }
   ],
   "source": [
    "num = 10\n",
    "while num >= 1:\n",
    "    print(num)\n",
    "    num -= 1\n"
   ]
  },
  {
   "cell_type": "markdown",
   "id": "098adaca-ffaf-4022-9ef7-e6c1dda30d39",
   "metadata": {},
   "source": [
    "## Q8"
   ]
  },
  {
   "cell_type": "code",
   "execution_count": null,
   "id": "67e390ba-535f-47fa-9502-7afe59e1ba16",
   "metadata": {},
   "outputs": [],
   "source": [
    "# This question is same as previous question. However I have shown the for loop implemetation as I think out of 7 and 8, I question was meant to solve with for loop"
   ]
  },
  {
   "cell_type": "code",
   "execution_count": 18,
   "id": "dc04a3ec-be30-4fc1-a21b-3b4cbda82763",
   "metadata": {},
   "outputs": [
    {
     "name": "stdout",
     "output_type": "stream",
     "text": [
      "10\n",
      "9\n",
      "8\n",
      "7\n",
      "6\n",
      "5\n",
      "4\n",
      "3\n",
      "2\n",
      "1\n"
     ]
    }
   ],
   "source": [
    "for num in range(10, 0, -1):\n",
    "    print(num)\n"
   ]
  },
  {
   "cell_type": "code",
   "execution_count": null,
   "id": "581b1916-9cb9-4535-9ac7-22ba5f122c80",
   "metadata": {},
   "outputs": [],
   "source": []
  }
 ],
 "metadata": {
  "kernelspec": {
   "display_name": "Python 3 (ipykernel)",
   "language": "python",
   "name": "python3"
  },
  "language_info": {
   "codemirror_mode": {
    "name": "ipython",
    "version": 3
   },
   "file_extension": ".py",
   "mimetype": "text/x-python",
   "name": "python",
   "nbconvert_exporter": "python",
   "pygments_lexer": "ipython3",
   "version": "3.10.8"
  }
 },
 "nbformat": 4,
 "nbformat_minor": 5
}
