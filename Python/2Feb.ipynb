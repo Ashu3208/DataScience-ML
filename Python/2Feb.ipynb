{
 "cells": [
  {
   "cell_type": "markdown",
   "id": "378fcc02-e675-4b1d-9b00-706933715a92",
   "metadata": {},
   "source": [
    "## Q1"
   ]
  },
  {
   "cell_type": "markdown",
   "id": "8e6389b0-9e11-458f-af80-07ecdc770b8b",
   "metadata": {},
   "source": [
    "For loop is generally used when we want to iterate over something. For eg we have a list and we want to iterate over all elements in the last "
   ]
  },
  {
   "cell_type": "code",
   "execution_count": 1,
   "id": "23ffc205-bb6e-4b41-b293-351bf847bf56",
   "metadata": {},
   "outputs": [
    {
     "name": "stdout",
     "output_type": "stream",
     "text": [
      "apples\n",
      "bananas\n",
      "mangoes\n"
     ]
    }
   ],
   "source": [
    "list=['apples','bananas','mangoes']\n",
    "for item in list:\n",
    "    print(item)"
   ]
  },
  {
   "cell_type": "markdown",
   "id": "daf87e12-a55c-4bb5-9f9a-4542370d4c2e",
   "metadata": {},
   "source": [
    "While loop is used when we want to repeat something until a certain condition is met. For eg we want to print integers until we hit 50"
   ]
  },
  {
   "cell_type": "code",
   "execution_count": 2,
   "id": "26b7acda-0958-46e7-abd7-b984de599f8e",
   "metadata": {},
   "outputs": [
    {
     "name": "stdout",
     "output_type": "stream",
     "text": [
      "1\n",
      "2\n",
      "3\n",
      "4\n",
      "5\n",
      "6\n",
      "7\n",
      "8\n",
      "9\n",
      "10\n",
      "11\n",
      "12\n",
      "13\n",
      "14\n",
      "15\n",
      "16\n",
      "17\n",
      "18\n",
      "19\n",
      "20\n",
      "21\n",
      "22\n",
      "23\n",
      "24\n",
      "25\n",
      "26\n",
      "27\n",
      "28\n",
      "29\n",
      "30\n",
      "31\n",
      "32\n",
      "33\n",
      "34\n",
      "35\n",
      "36\n",
      "37\n",
      "38\n",
      "39\n",
      "40\n",
      "41\n",
      "42\n",
      "43\n",
      "44\n",
      "45\n",
      "46\n",
      "47\n",
      "48\n",
      "49\n"
     ]
    }
   ],
   "source": [
    "i=1\n",
    "while i !=50:\n",
    "    print(i)\n",
    "    i=i+1"
   ]
  },
  {
   "cell_type": "markdown",
   "id": "30af0681-e04c-42ab-a84b-f26373033817",
   "metadata": {},
   "source": [
    "However , you can notice that while and for loop can be used in any scenario. Any while loop can be written using for loop and any for loop can be written using while loop. It totally depends on the coder which loop he wants to use"
   ]
  },
  {
   "cell_type": "markdown",
   "id": "212c102f-3168-4b6a-9a13-dfc35c755d15",
   "metadata": {},
   "source": [
    "## Q2"
   ]
  },
  {
   "cell_type": "code",
   "execution_count": 3,
   "id": "2dfcc7bb-4eea-4760-89f7-e33724c6da9f",
   "metadata": {},
   "outputs": [
    {
     "name": "stdout",
     "output_type": "stream",
     "text": [
      "Sum of first 10 natural number is: 55\n"
     ]
    }
   ],
   "source": [
    "# Sum using for loop\n",
    "curr_sum=0\n",
    "for i in range(1,11):\n",
    "    curr_sum+=i\n",
    "print(f\"Sum of first 10 natural number is: {curr_sum}\")"
   ]
  },
  {
   "cell_type": "code",
   "execution_count": 4,
   "id": "6911ac1c-560e-4e08-b099-d76e764f924f",
   "metadata": {},
   "outputs": [
    {
     "name": "stdout",
     "output_type": "stream",
     "text": [
      "Product of first 10 natural number is: 3628800\n"
     ]
    }
   ],
   "source": [
    "## Product using for loop\n",
    "curr_prod=1\n",
    "for i in range(1,11):\n",
    "    curr_prod*=i\n",
    "print(f\"Product of first 10 natural number is: {curr_prod}\")"
   ]
  },
  {
   "cell_type": "code",
   "execution_count": 5,
   "id": "ac34dfdb-3863-4613-b056-db6f87396edc",
   "metadata": {},
   "outputs": [
    {
     "name": "stdout",
     "output_type": "stream",
     "text": [
      "Sum of first 10 natural number is: 55\n"
     ]
    }
   ],
   "source": [
    "# Sum using while loop\n",
    "curr_sum=0\n",
    "i=1\n",
    "while i != 11:\n",
    "    curr_sum+=i\n",
    "    i=i+1\n",
    "print(f\"Sum of first 10 natural number is: {curr_sum}\")"
   ]
  },
  {
   "cell_type": "code",
   "execution_count": 6,
   "id": "03afd75e-ecd3-47dd-8f1d-5e9890a5b640",
   "metadata": {},
   "outputs": [
    {
     "name": "stdout",
     "output_type": "stream",
     "text": [
      "Product of first 10 natural number is: 3628800\n"
     ]
    }
   ],
   "source": [
    "## Product using while loop\n",
    "curr_prod=1\n",
    "for i in range(1,11):\n",
    "    curr_prod*=i\n",
    "print(f\"Product of first 10 natural number is: {curr_prod}\")"
   ]
  },
  {
   "cell_type": "markdown",
   "id": "94925329-bcae-4b49-960d-d7a4932d3ea9",
   "metadata": {},
   "source": [
    "## Q3"
   ]
  },
  {
   "cell_type": "code",
   "execution_count": 17,
   "id": "7fb1336b-77f7-4266-856f-16a9f88fbe7c",
   "metadata": {},
   "outputs": [],
   "source": [
    "def electricity_bill(units):\n",
    "    if units<=100:\n",
    "        price=4.5*units\n",
    "    elif units<=200:\n",
    "        price=450+(units-100)*6\n",
    "    elif units<=300:\n",
    "        price=1050+(units-200)*10\n",
    "    else:\n",
    "        price=2050+(units-300)*20\n",
    "    return price"
   ]
  },
  {
   "cell_type": "code",
   "execution_count": 18,
   "id": "e051b7a8-d8ff-4c73-bbb6-306f0f79d938",
   "metadata": {},
   "outputs": [
    {
     "name": "stdout",
     "output_type": "stream",
     "text": [
      "450.0\n"
     ]
    }
   ],
   "source": [
    "print(electricity_bill(100))"
   ]
  },
  {
   "cell_type": "code",
   "execution_count": 19,
   "id": "6f73183d-99c8-42f9-9a70-27f1db198c55",
   "metadata": {},
   "outputs": [
    {
     "name": "stdout",
     "output_type": "stream",
     "text": [
      "750\n"
     ]
    }
   ],
   "source": [
    "print(electricity_bill(150))"
   ]
  },
  {
   "cell_type": "code",
   "execution_count": 20,
   "id": "8bc86d02-c0c5-46fb-bbf6-b8ab9e3a5515",
   "metadata": {},
   "outputs": [
    {
     "name": "stdout",
     "output_type": "stream",
     "text": [
      "2050\n"
     ]
    }
   ],
   "source": [
    "print(electricity_bill(300))"
   ]
  },
  {
   "cell_type": "code",
   "execution_count": 21,
   "id": "18c6822d-c1cd-4e6a-add3-b5b225c96953",
   "metadata": {},
   "outputs": [
    {
     "name": "stdout",
     "output_type": "stream",
     "text": [
      "2250\n"
     ]
    }
   ],
   "source": [
    "print(electricity_bill(310))"
   ]
  },
  {
   "cell_type": "markdown",
   "id": "2bfd07d4-ce60-4516-8815-09268bb3a0ae",
   "metadata": {},
   "source": [
    "## Q4"
   ]
  },
  {
   "cell_type": "code",
   "execution_count": 24,
   "id": "8b6629c5-015f-4873-9881-cdf894a364c4",
   "metadata": {},
   "outputs": [],
   "source": [
    "divisible_By_4_or5=[]\n",
    "for i in range(1,101):\n",
    "    cube=i**3\n",
    "    if cube%4==0 or cube %5==0:\n",
    "        divisible_By_4_or5.append(cube)"
   ]
  },
  {
   "cell_type": "code",
   "execution_count": 25,
   "id": "6da22283-af31-47ac-91b2-cca2b7f19d9d",
   "metadata": {},
   "outputs": [
    {
     "name": "stdout",
     "output_type": "stream",
     "text": [
      "[8, 64, 125, 216, 512, 1000, 1728, 2744, 3375, 4096, 5832, 8000, 10648, 13824, 15625, 17576, 21952, 27000, 32768, 39304, 42875, 46656, 54872, 64000, 74088, 85184, 91125, 97336, 110592, 125000, 140608, 157464, 166375, 175616, 195112, 216000, 238328, 262144, 274625, 287496, 314432, 343000, 373248, 405224, 421875, 438976, 474552, 512000, 551368, 592704, 614125, 636056, 681472, 729000, 778688, 830584, 857375, 884736, 941192, 1000000]\n"
     ]
    }
   ],
   "source": [
    "print(divisible_By_4_or5)"
   ]
  },
  {
   "cell_type": "markdown",
   "id": "21ceeede-438d-4579-ba53-3316c6075e6f",
   "metadata": {},
   "source": [
    "## Q5"
   ]
  },
  {
   "cell_type": "code",
   "execution_count": 32,
   "id": "9ab2104a-ee23-4d46-9cfb-add407998880",
   "metadata": {},
   "outputs": [],
   "source": [
    "def count_Vowels(string):\n",
    "    string=string.lower\n",
    "    count=0\n",
    "    for ch in string:\n",
    "        if ch=='a':\n",
    "            count+=1\n",
    "        if ch=='e':\n",
    "            count+=1\n",
    "        if ch=='i':\n",
    "            count+=1\n",
    "        if ch=='o':\n",
    "            count+=1\n",
    "        if ch=='u':\n",
    "            count+=1\n",
    "    return count"
   ]
  },
  {
   "cell_type": "code",
   "execution_count": 33,
   "id": "67cd45f9-45cf-402e-b1c0-4b55adcd95af",
   "metadata": {},
   "outputs": [
    {
     "ename": "TypeError",
     "evalue": "'builtin_function_or_method' object is not iterable",
     "output_type": "error",
     "traceback": [
      "\u001b[0;31m---------------------------------------------------------------------------\u001b[0m",
      "\u001b[0;31mTypeError\u001b[0m                                 Traceback (most recent call last)",
      "Cell \u001b[0;32mIn[33], line 1\u001b[0m\n\u001b[0;32m----> 1\u001b[0m \u001b[38;5;28mprint\u001b[39m(\u001b[43mcount_Vowels\u001b[49m\u001b[43m(\u001b[49m\u001b[38;5;124;43m\"\u001b[39;49m\u001b[38;5;124;43mI want to become a data scientist\u001b[39;49m\u001b[38;5;124;43m\"\u001b[39;49m\u001b[43m)\u001b[49m)\n",
      "Cell \u001b[0;32mIn[32], line 4\u001b[0m, in \u001b[0;36mcount_Vowels\u001b[0;34m(string)\u001b[0m\n\u001b[1;32m      2\u001b[0m string\u001b[38;5;241m=\u001b[39mstring\u001b[38;5;241m.\u001b[39mlower\n\u001b[1;32m      3\u001b[0m count\u001b[38;5;241m=\u001b[39m\u001b[38;5;241m0\u001b[39m\n\u001b[0;32m----> 4\u001b[0m \u001b[38;5;28;01mfor\u001b[39;00m ch \u001b[38;5;129;01min\u001b[39;00m string:\n\u001b[1;32m      5\u001b[0m     \u001b[38;5;28;01mif\u001b[39;00m ch\u001b[38;5;241m==\u001b[39m\u001b[38;5;124m'\u001b[39m\u001b[38;5;124ma\u001b[39m\u001b[38;5;124m'\u001b[39m:\n\u001b[1;32m      6\u001b[0m         count\u001b[38;5;241m+\u001b[39m\u001b[38;5;241m=\u001b[39m\u001b[38;5;241m1\u001b[39m\n",
      "\u001b[0;31mTypeError\u001b[0m: 'builtin_function_or_method' object is not iterable"
     ]
    }
   ],
   "source": [
    "print(count_Vowels(\"I want to become a data scientist\"))"
   ]
  },
  {
   "cell_type": "code",
   "execution_count": null,
   "id": "09f3401a-121a-455b-84a7-3ebcaedaea79",
   "metadata": {},
   "outputs": [],
   "source": []
  }
 ],
 "metadata": {
  "kernelspec": {
   "display_name": "Python 3 (ipykernel)",
   "language": "python",
   "name": "python3"
  },
  "language_info": {
   "codemirror_mode": {
    "name": "ipython",
    "version": 3
   },
   "file_extension": ".py",
   "mimetype": "text/x-python",
   "name": "python",
   "nbconvert_exporter": "python",
   "pygments_lexer": "ipython3",
   "version": "3.10.8"
  }
 },
 "nbformat": 4,
 "nbformat_minor": 5
}
